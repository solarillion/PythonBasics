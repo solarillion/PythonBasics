{
 "cells": [
  {
   "cell_type": "markdown",
   "metadata": {},
   "source": [
    "# Python Basics"
   ]
  },
  {
   "cell_type": "markdown",
   "metadata": {},
   "source": [
    "These assignments aim to get you acquainted with Python, which is an important requirement for all the research done at Solarillion Foundation. Apart from teaching you Python, these assignments also aim to make you a better programmer and cultivate better coding practices. \n",
    "\n",
    "Visit these links for more details: <br>\n",
    "PEP8 Practices: https://www.python.org/dev/peps/pep-0008/ <br>\n",
    "Check PEP8: http://pep8online.com <br>\n",
    "Python Reference: https://www.py4e.com/lessons <br>\n",
    "\n",
    "Each task in the assignment comprises of at least two cells. The first few cells are function definitions, and in these you will write code to solve the problem at hand. You will call the function(s) in the last cell of each task, and check your output.\n",
    "\n",
    "We encourage you to play around and learn as much as possible, and be as creative as you can get. More than anything, have fun doing these assignments. Enjoy!"
   ]
  },
  {
   "cell_type": "markdown",
   "metadata": {},
   "source": [
    "# Module 1\n",
    "Scope: Control Flow, Data Types and Data Structures"
   ]
  },
  {
   "cell_type": "markdown",
   "metadata": {},
   "source": [
    "## Imports\n",
    "Import any modules here:"
   ]
  },
  {
   "cell_type": "code",
   "execution_count": null,
   "metadata": {},
   "outputs": [],
   "source": []
  },
  {
   "cell_type": "markdown",
   "metadata": {},
   "source": [
    "## Task 1"
   ]
  },
  {
   "cell_type": "markdown",
   "metadata": {},
   "source": [
    "Print the pattern given in the docstring."
   ]
  },
  {
   "cell_type": "markdown",
   "metadata": {},
   "source": [
    "**Question 1**"
   ]
  },
  {
   "cell_type": "code",
   "execution_count": null,
   "metadata": {},
   "outputs": [],
   "source": [
    "def <FUNCTION-NAME>:\n",
    "    \"\"\" \n",
    "        Prints the following pattern for `n` rows:\n",
    "        \n",
    "        1\n",
    "        1 2 \n",
    "        1 2 3 \n",
    "        1 2 3 4\n",
    "        ...\n",
    "        1 2 ... n  \n",
    "        \n",
    "        Parameters\n",
    "        ----------\n",
    "        n : integer\n",
    "            Number of lines\n",
    "        \n",
    "        Ideas\n",
    "        -----\n",
    "        Looping, Nested Loops\n",
    "    \"\"\"\n",
    "    "
   ]
  },
  {
   "cell_type": "code",
   "execution_count": null,
   "metadata": {},
   "outputs": [],
   "source": [
    "# Call your function here\n"
   ]
  },
  {
   "cell_type": "markdown",
   "metadata": {},
   "source": [
    "**Question 2**"
   ]
  },
  {
   "cell_type": "code",
   "execution_count": null,
   "metadata": {},
   "outputs": [],
   "source": [
    "def <FUNCTION-NAME>:\n",
    "    \"\"\" \n",
    "        Prints the following pattern forever (till Ctrl-C is pressed):\n",
    "        \n",
    "        *\n",
    "        00\n",
    "        ***\n",
    "        0000\n",
    "        *****\n",
    "        0000\n",
    "        ***\n",
    "        00\n",
    "        *\n",
    "        \n",
    "        This is a vertical sinusoid.\n",
    "        \n",
    "        Parameters\n",
    "        ----------\n",
    "        n : integer\n",
    "            Number of lines\n",
    "        \n",
    "        Ideas\n",
    "        -----\n",
    "        Looping, Conditions\n",
    "    \"\"\"\n",
    "    "
   ]
  },
  {
   "cell_type": "code",
   "execution_count": null,
   "metadata": {
    "scrolled": true
   },
   "outputs": [],
   "source": [
    "# Call your function here\n"
   ]
  },
  {
   "cell_type": "markdown",
   "metadata": {},
   "source": [
    "**Question 3 (Reserve)**"
   ]
  },
  {
   "cell_type": "code",
   "execution_count": null,
   "metadata": {},
   "outputs": [],
   "source": [
    "def <FUNCTION-NAME>:\n",
    "    \"\"\" \n",
    "        Prints the following pattern forever (till Ctrl-C is pressed):\n",
    "        \n",
    "        **\n",
    "        ***\n",
    "        *****\n",
    "        *******\n",
    "        ********\n",
    "        *********\n",
    "        *********\n",
    "        ********\n",
    "        *******\n",
    "        *****\n",
    "        ***\n",
    "        **\n",
    "        **\n",
    "        ***\n",
    "        *****\n",
    "        *******\n",
    "        ********\n",
    "        *********\n",
    "        *********\n",
    "        ********\n",
    "        *******\n",
    "        *****\n",
    "        ***\n",
    "        **\n",
    "        \n",
    "        This is a vertical sinusoid.\n",
    "        \n",
    "        Parameters\n",
    "        ----------\n",
    "        n : integer\n",
    "            Number of lines\n",
    "        \n",
    "        Ideas\n",
    "        -----\n",
    "        Looping, math.sin\n",
    "    \"\"\"\n",
    "    "
   ]
  },
  {
   "cell_type": "code",
   "execution_count": null,
   "metadata": {},
   "outputs": [],
   "source": [
    "# Call your function here\n"
   ]
  },
  {
   "cell_type": "markdown",
   "metadata": {},
   "source": [
    "## Task 2"
   ]
  },
  {
   "cell_type": "code",
   "execution_count": null,
   "metadata": {},
   "outputs": [],
   "source": []
  },
  {
   "cell_type": "code",
   "execution_count": null,
   "metadata": {},
   "outputs": [],
   "source": []
  },
  {
   "cell_type": "markdown",
   "metadata": {},
   "source": [
    "## Task 3"
   ]
  },
  {
   "cell_type": "code",
   "execution_count": null,
   "metadata": {},
   "outputs": [],
   "source": []
  },
  {
   "cell_type": "code",
   "execution_count": null,
   "metadata": {},
   "outputs": [],
   "source": []
  }
 ],
 "metadata": {
  "kernelspec": {
   "display_name": "Python 3",
   "language": "python",
   "name": "python3"
  },
  "language_info": {
   "codemirror_mode": {
    "name": "ipython",
    "version": 3
   },
   "file_extension": ".py",
   "mimetype": "text/x-python",
   "name": "python",
   "nbconvert_exporter": "python",
   "pygments_lexer": "ipython3",
   "version": "3.6.8"
  }
 },
 "nbformat": 4,
 "nbformat_minor": 2
}
